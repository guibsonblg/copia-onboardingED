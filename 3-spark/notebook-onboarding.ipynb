{
 "cells": [
  {
   "cell_type": "markdown",
   "metadata": {},
   "source": [
    "### NOTEBOOK SPARK FEITO NO GOOGLE COLAB"
   ]
  },
  {
   "cell_type": "code",
   "execution_count": null,
   "metadata": {
    "id": "rNBOIQ8227sQ"
   },
   "outputs": [],
   "source": [
    "!apt-get install openjdk-8-jdk-headless -qq > /dev/null\n",
    "\n",
    "!pip install -q pyspark"
   ]
  },
  {
   "cell_type": "code",
   "execution_count": 2,
   "metadata": {
    "id": "Bh5iV2hgA0ey"
   },
   "outputs": [],
   "source": [
    "import os\n",
    "os.environ['JAVA_HOME'] = '/usr/lib/jvm/java-8-openjdk-amd64'\n",
    "\n",
    "from pyspark.sql import SparkSession"
   ]
  },
  {
   "cell_type": "code",
   "execution_count": null,
   "metadata": {
    "id": "94gdfN-bA1XF"
   },
   "outputs": [],
   "source": [
    "spark = SparkSession.builder.master(\"local[*]\").getOrCreate()"
   ]
  },
  {
   "cell_type": "code",
   "execution_count": null,
   "metadata": {
    "colab": {
     "base_uri": "https://localhost:8080/",
     "height": 219
    },
    "id": "qG0aZSdDBJKj",
    "outputId": "9e16da2f-97f1-4fd6-c511-3436a74489d4"
   },
   "outputs": [
    {
     "data": {
      "text/html": [
       "\n",
       "            <div>\n",
       "                <p><b>SparkSession - in-memory</b></p>\n",
       "                \n",
       "        <div>\n",
       "            <p><b>SparkContext</b></p>\n",
       "\n",
       "            <p><a href=\"http://5e1928e13269:4040\">Spark UI</a></p>\n",
       "\n",
       "            <dl>\n",
       "              <dt>Version</dt>\n",
       "                <dd><code>v3.2.0</code></dd>\n",
       "              <dt>Master</dt>\n",
       "                <dd><code>local[*]</code></dd>\n",
       "              <dt>AppName</dt>\n",
       "                <dd><code>pyspark-shell</code></dd>\n",
       "            </dl>\n",
       "        </div>\n",
       "        \n",
       "            </div>\n",
       "        "
      ],
      "text/plain": [
       "<pyspark.sql.session.SparkSession at 0x7fce3dc33610>"
      ]
     },
     "execution_count": 9,
     "metadata": {},
     "output_type": "execute_result"
    }
   ],
   "source": [
    "spark"
   ]
  },
  {
   "cell_type": "code",
   "execution_count": null,
   "metadata": {
    "id": "MJOe5LH8A4Uq"
   },
   "outputs": [],
   "source": [
    "import pandas as pd\n",
    "pd.set_option('display.max_columns', None)\n",
    "\n",
    "import pyspark.sql.functions as f\n",
    "import pyspark.sql.types as t"
   ]
  },
  {
   "cell_type": "code",
   "execution_count": null,
   "metadata": {
    "id": "SzO3hNyKA-Ib"
   },
   "outputs": [],
   "source": [
    "from pyspark.sql.types import StringType\n",
    "from pyspark.sql.functions import udf"
   ]
  },
  {
   "cell_type": "code",
   "execution_count": null,
   "metadata": {
    "id": "V3N1iyyUBBax"
   },
   "outputs": [],
   "source": [
    "url = \"https://raw.githubusercontent.com/neylsoncrepalde/titanic_data_with_semicolon/main/titanic.csv\"\n",
    "from pyspark import SparkFiles\n",
    "spark.sparkContext.addFile(url)\n",
    "df = spark.read.csv(SparkFiles.get(\"titanic.csv\"), header=True, sep=';', inferSchema=True)"
   ]
  },
  {
   "cell_type": "code",
   "execution_count": null,
   "metadata": {
    "colab": {
     "base_uri": "https://localhost:8080/"
    },
    "id": "hMJ5-3phBUgy",
    "outputId": "dd8957d5-da5d-4cff-8574-344e6ce1ab48"
   },
   "outputs": [
    {
     "name": "stdout",
     "output_type": "stream",
     "text": [
      "root\n",
      " |-- PassengerId: integer (nullable = true)\n",
      " |-- Survived: integer (nullable = true)\n",
      " |-- Pclass: integer (nullable = true)\n",
      " |-- Name: string (nullable = true)\n",
      " |-- Sex: string (nullable = true)\n",
      " |-- Age: double (nullable = true)\n",
      " |-- SibSp: integer (nullable = true)\n",
      " |-- Parch: integer (nullable = true)\n",
      " |-- Ticket: string (nullable = true)\n",
      " |-- Fare: double (nullable = true)\n",
      " |-- Cabin: string (nullable = true)\n",
      " |-- Embarked: string (nullable = true)\n",
      "\n"
     ]
    }
   ],
   "source": [
    "#QUESTÃO 1\n",
    "\n",
    "df.printSchema()"
   ]
  },
  {
   "cell_type": "code",
   "execution_count": null,
   "metadata": {
    "colab": {
     "base_uri": "https://localhost:8080/"
    },
    "id": "JfOnpsZaBWqI",
    "outputId": "48bb2bc7-b445-446a-a2d0-6c8bc58c0773"
   },
   "outputs": [
    {
     "name": "stdout",
     "output_type": "stream",
     "text": [
      "+-----------+--------+------+--------------------+------+----+-----+-----+----------------+-------+-----+--------+\n",
      "|PassengerId|Survived|Pclass|                Name|   Sex| Age|SibSp|Parch|          Ticket|   Fare|Cabin|Embarked|\n",
      "+-----------+--------+------+--------------------+------+----+-----+-----+----------------+-------+-----+--------+\n",
      "|          1|       0|     3|Braund, Mr. Owen ...|  male|22.0|    1|    0|       A/5 21171|   7.25| null|       S|\n",
      "|          2|       1|     1|Cumings, Mrs. Joh...|female|38.0|    1|    0|        PC 17599|71.2833|  C85|       C|\n",
      "|          3|       1|     3|Heikkinen, Miss. ...|female|26.0|    0|    0|STON/O2. 3101282|  7.925| null|       S|\n",
      "|          4|       1|     1|Futrelle, Mrs. Ja...|female|35.0|    1|    0|          113803|   53.1| C123|       S|\n",
      "|          5|       0|     3|Allen, Mr. Willia...|  male|35.0|    0|    0|          373450|   8.05| null|       S|\n",
      "|          6|       0|     3|    Moran, Mr. James|  male|null|    0|    0|          330877| 8.4583| null|       Q|\n",
      "|          7|       0|     1|McCarthy, Mr. Tim...|  male|54.0|    0|    0|           17463|51.8625|  E46|       S|\n",
      "|          8|       0|     3|Palsson, Master. ...|  male| 2.0|    3|    1|          349909| 21.075| null|       S|\n",
      "|          9|       1|     3|Johnson, Mrs. Osc...|female|27.0|    0|    2|          347742|11.1333| null|       S|\n",
      "|         10|       1|     2|Nasser, Mrs. Nich...|female|14.0|    1|    0|          237736|30.0708| null|       C|\n",
      "+-----------+--------+------+--------------------+------+----+-----+-----+----------------+-------+-----+--------+\n",
      "only showing top 10 rows\n",
      "\n"
     ]
    }
   ],
   "source": [
    "#QUESTÃO 2\n",
    "\n",
    "df.show(10)"
   ]
  },
  {
   "cell_type": "code",
   "execution_count": null,
   "metadata": {
    "colab": {
     "base_uri": "https://localhost:8080/"
    },
    "id": "tFKqqZGwBYUh",
    "outputId": "073f234b-286c-4b21-9780-ea7b4d6ddbfa"
   },
   "outputs": [
    {
     "name": "stdout",
     "output_type": "stream",
     "text": [
      "+-----------+--------+------+--------------------+------+----+-----+-----+----------------+--------+-----+--------+\n",
      "|PassengerId|Survived|Pclass|                Name|   Sex| Age|SibSp|Parch|          Ticket|    Fare|Cabin|Embarked|\n",
      "+-----------+--------+------+--------------------+------+----+-----+-----+----------------+--------+-----+--------+\n",
      "|          2|       1|     1|Cumings, Mrs. Joh...|female|38.0|    1|    0|        PC 17599| 71.2833|  C85|       C|\n",
      "|          3|       1|     3|Heikkinen, Miss. ...|female|26.0|    0|    0|STON/O2. 3101282|   7.925| null|       S|\n",
      "|          4|       1|     1|Futrelle, Mrs. Ja...|female|35.0|    1|    0|          113803|    53.1| C123|       S|\n",
      "|          9|       1|     3|Johnson, Mrs. Osc...|female|27.0|    0|    2|          347742| 11.1333| null|       S|\n",
      "|         10|       1|     2|Nasser, Mrs. Nich...|female|14.0|    1|    0|          237736| 30.0708| null|       C|\n",
      "|         11|       1|     3|Sandstrom, Miss. ...|female| 4.0|    1|    1|         PP 9549|    16.7|   G6|       S|\n",
      "|         12|       1|     1|Bonnell, Miss. El...|female|58.0|    0|    0|          113783|   26.55| C103|       S|\n",
      "|         16|       1|     2|Hewlett, Mrs. (Ma...|female|55.0|    0|    0|          248706|    16.0| null|       S|\n",
      "|         18|       1|     2|Williams, Mr. Cha...|  male|null|    0|    0|          244373|    13.0| null|       S|\n",
      "|         20|       1|     3|Masselmani, Mrs. ...|female|null|    0|    0|            2649|   7.225| null|       C|\n",
      "|         22|       1|     2|Beesley, Mr. Lawr...|  male|34.0|    0|    0|          248698|    13.0|  D56|       S|\n",
      "|         23|       1|     3|\"McGowan, Miss. A...|female|15.0|    0|    0|          330923|  8.0292| null|       Q|\n",
      "|         24|       1|     1|Sloper, Mr. Willi...|  male|28.0|    0|    0|          113788|    35.5|   A6|       S|\n",
      "|         26|       1|     3|Asplund, Mrs. Car...|female|38.0|    1|    5|          347077| 31.3875| null|       S|\n",
      "|         29|       1|     3|\"O'Dwyer, Miss. E...|female|null|    0|    0|          330959|  7.8792| null|       Q|\n",
      "|         32|       1|     1|Spencer, Mrs. Wil...|female|null|    1|    0|        PC 17569|146.5208|  B78|       C|\n",
      "|         33|       1|     3|Glynn, Miss. Mary...|female|null|    0|    0|          335677|    7.75| null|       Q|\n",
      "|         37|       1|     3|    Mamee, Mr. Hanna|  male|null|    0|    0|            2677|  7.2292| null|       C|\n",
      "|         40|       1|     3|Nicola-Yarred, Mi...|female|14.0|    1|    0|            2651| 11.2417| null|       C|\n",
      "|         44|       1|     2|Laroche, Miss. Si...|female| 3.0|    1|    2|   SC/Paris 2123| 41.5792| null|       C|\n",
      "+-----------+--------+------+--------------------+------+----+-----+-----+----------------+--------+-----+--------+\n",
      "only showing top 20 rows\n",
      "\n"
     ]
    }
   ],
   "source": [
    "#QUESTÃO 3\n",
    "\n",
    "df.filter(df['Survived'] == 1).show()"
   ]
  },
  {
   "cell_type": "code",
   "execution_count": null,
   "metadata": {
    "colab": {
     "base_uri": "https://localhost:8080/"
    },
    "id": "rU0cDIX_BaJa",
    "outputId": "58cb5167-dca6-4883-aaf5-973506d9bf20"
   },
   "outputs": [
    {
     "name": "stdout",
     "output_type": "stream",
     "text": [
      "+-----------+--------+------+--------------------+----+----+-----+-----+---------------+-------+-----------+--------+\n",
      "|PassengerId|Survived|Pclass|                Name| Sex| Age|SibSp|Parch|         Ticket|   Fare|      Cabin|Embarked|\n",
      "+-----------+--------+------+--------------------+----+----+-----+-----+---------------+-------+-----------+--------+\n",
      "|          1|       0|     3|Braund, Mr. Owen ...|male|22.0|    1|    0|      A/5 21171|   7.25|       null|       S|\n",
      "|          5|       0|     3|Allen, Mr. Willia...|male|35.0|    0|    0|         373450|   8.05|       null|       S|\n",
      "|          6|       0|     3|    Moran, Mr. James|male|null|    0|    0|         330877| 8.4583|       null|       Q|\n",
      "|          7|       0|     1|McCarthy, Mr. Tim...|male|54.0|    0|    0|          17463|51.8625|        E46|       S|\n",
      "|          8|       0|     3|Palsson, Master. ...|male| 2.0|    3|    1|         349909| 21.075|       null|       S|\n",
      "|         13|       0|     3|Saundercock, Mr. ...|male|20.0|    0|    0|      A/5. 2151|   8.05|       null|       S|\n",
      "|         14|       0|     3|Andersson, Mr. An...|male|39.0|    1|    5|         347082| 31.275|       null|       S|\n",
      "|         17|       0|     3|Rice, Master. Eugene|male| 2.0|    4|    1|         382652| 29.125|       null|       Q|\n",
      "|         21|       0|     2|Fynney, Mr. Joseph J|male|35.0|    0|    0|         239865|   26.0|       null|       S|\n",
      "|         27|       0|     3|Emir, Mr. Farred ...|male|null|    0|    0|           2631|  7.225|       null|       C|\n",
      "|         28|       0|     1|Fortune, Mr. Char...|male|19.0|    3|    2|          19950|  263.0|C23 C25 C27|       S|\n",
      "|         30|       0|     3| Todoroff, Mr. Lalio|male|null|    0|    0|         349216| 7.8958|       null|       S|\n",
      "|         31|       0|     1|Uruchurtu, Don. M...|male|40.0|    0|    0|       PC 17601|27.7208|       null|       C|\n",
      "|         34|       0|     2|Wheadon, Mr. Edwa...|male|66.0|    0|    0|     C.A. 24579|   10.5|       null|       S|\n",
      "|         35|       0|     1|Meyer, Mr. Edgar ...|male|28.0|    1|    0|       PC 17604|82.1708|       null|       C|\n",
      "|         36|       0|     1|Holverson, Mr. Al...|male|42.0|    1|    0|         113789|   52.0|       null|       S|\n",
      "|         38|       0|     3|Cann, Mr. Ernest ...|male|21.0|    0|    0|     A./5. 2152|   8.05|       null|       S|\n",
      "|         43|       0|     3| Kraeff, Mr. Theodor|male|null|    0|    0|         349253| 7.8958|       null|       C|\n",
      "|         46|       0|     3|Rogers, Mr. Willi...|male|null|    0|    0|S.C./A.4. 23567|   8.05|       null|       S|\n",
      "|         47|       0|     3|   Lennon, Mr. Denis|male|null|    1|    0|         370371|   15.5|       null|       Q|\n",
      "+-----------+--------+------+--------------------+----+----+-----+-----+---------------+-------+-----------+--------+\n",
      "only showing top 20 rows\n",
      "\n"
     ]
    }
   ],
   "source": [
    "#QUESTÃO 4\n",
    " \n",
    "df.filter(df['Survived'] == 0).filter(df['sex'] == 'male').show()"
   ]
  },
  {
   "cell_type": "code",
   "execution_count": null,
   "metadata": {
    "colab": {
     "base_uri": "https://localhost:8080/"
    },
    "id": "4wTqIzIPBc0a",
    "outputId": "3321e215-2788-4f15-f7ef-86f887ce93d8"
   },
   "outputs": [
    {
     "name": "stdout",
     "output_type": "stream",
     "text": [
      "+------+------------------+\n",
      "|Pclass|         avg(Fare)|\n",
      "+------+------------------+\n",
      "|     1| 84.15468749999992|\n",
      "|     3|13.675550101832997|\n",
      "|     2| 20.66218315217391|\n",
      "+------+------------------+\n",
      "\n"
     ]
    }
   ],
   "source": [
    "#QUESTÃO 5\n",
    "\n",
    "df.groupBy('Pclass').agg(f.mean('Fare')).show()"
   ]
  },
  {
   "cell_type": "code",
   "execution_count": null,
   "metadata": {
    "colab": {
     "base_uri": "https://localhost:8080/"
    },
    "id": "7KUqgNC7BfwV",
    "outputId": "d4ca7d36-c360-4623-e526-d3cb4835c648"
   },
   "outputs": [
    {
     "name": "stdout",
     "output_type": "stream",
     "text": [
      "+------+------+------------------+\n",
      "|Pclass|   sex|         avg(Fare)|\n",
      "+------+------+------------------+\n",
      "|     2|female| 21.97012105263158|\n",
      "|     3|  male|12.661632564841513|\n",
      "|     1|  male| 67.22612704918033|\n",
      "|     3|female|16.118809722222224|\n",
      "|     1|female|106.12579787234041|\n",
      "|     2|  male| 19.74178240740741|\n",
      "+------+------+------------------+\n",
      "\n"
     ]
    }
   ],
   "source": [
    "#QUESTÃO 6\n",
    "\n",
    "df.groupBy('Pclass', 'sex').agg(f.mean('Fare')).show()"
   ]
  },
  {
   "cell_type": "code",
   "execution_count": null,
   "metadata": {
    "colab": {
     "base_uri": "https://localhost:8080/"
    },
    "id": "skIY1ZygBiiU",
    "outputId": "c5e9c4f2-d825-4b57-d030-e746366e5840"
   },
   "outputs": [
    {
     "name": "stdout",
     "output_type": "stream",
     "text": [
      "+------+------+--------+-----+\n",
      "|Pclass|   sex|Survived|count|\n",
      "+------+------+--------+-----+\n",
      "|     3|female|       1|   72|\n",
      "|     2|female|       1|   70|\n",
      "|     2|  male|       1|   17|\n",
      "|     3|  male|       1|   47|\n",
      "|     1|female|       1|   91|\n",
      "|     1|  male|       1|   45|\n",
      "+------+------+--------+-----+\n",
      "\n"
     ]
    }
   ],
   "source": [
    "#QUESTÃO 7\n",
    "\n",
    "df.filter(df['Survived'] == 1).groupBy('Pclass', 'sex', 'Survived').count().show()"
   ]
  },
  {
   "cell_type": "code",
   "execution_count": null,
   "metadata": {
    "colab": {
     "base_uri": "https://localhost:8080/"
    },
    "id": "Xbno4E_eBlkL",
    "outputId": "7a4690ba-a7d9-4d02-e336-471ec9ffc1a2"
   },
   "outputs": [
    {
     "name": "stdout",
     "output_type": "stream",
     "text": [
      "+-------------+------+--------+-----+\n",
      "| Age_category|   sex|Survived|count|\n",
      "+-------------+------+--------+-----+\n",
      "|         null|female|       1|   36|\n",
      "|      Criança|  male|       1|   23|\n",
      "|      Criança|female|       1|   38|\n",
      "| Adulto Jovem|  male|       1|   52|\n",
      "|Adulto Maduro|female|       1|   37|\n",
      "|Adulto Maduro|  male|       1|   18|\n",
      "|         null|  male|       1|   16|\n",
      "| Adulto Jovem|female|       1|  122|\n",
      "+-------------+------+--------+-----+\n",
      "\n"
     ]
    }
   ],
   "source": [
    "#QUESTÃO 8\n",
    "\n",
    "def Age_category(Age):\n",
    "  if Age is None:\n",
    "    return \"null\"\n",
    "  elif Age < 18.0:\n",
    "    return \"Criança\"\n",
    "  elif ((Age >= 18.0) and (Age <= 40.0)):\n",
    "    return \"Adulto Jovem\"\n",
    "  else:\n",
    "    return \"Adulto Maduro\"\n",
    "\n",
    "Age_udf=udf(Age_category, StringType())\n",
    "df=df.withColumn('Age_category',Age_udf('Age'))\n",
    "df.filter(df['Survived'] == 1).groupBy('Age_category', 'sex', 'Survived').count().show()"
   ]
  },
  {
   "cell_type": "code",
   "execution_count": null,
   "metadata": {
    "id": "jiBJDuf_Boak"
   },
   "outputs": [],
   "source": [
    "#QUESTÃO 9 - Escrevendo dados em Parquet\n",
    "\n",
    "df.filter(df['Survived'] == 1).write.partitionBy('sex', 'Pclass').parquet(\"/Titanic.parquet\")"
   ]
  }
 ],
 "metadata": {
  "colab": {
   "name": "Onboarding Spark",
   "provenance": []
  },
  "kernelspec": {
   "display_name": "Python 3",
   "language": "python",
   "name": "python3"
  },
  "language_info": {
   "codemirror_mode": {
    "name": "ipython",
    "version": 3
   },
   "file_extension": ".py",
   "mimetype": "text/x-python",
   "name": "python",
   "nbconvert_exporter": "python",
   "pygments_lexer": "ipython3",
   "version": "3.8.8"
  }
 },
 "nbformat": 4,
 "nbformat_minor": 1
}
